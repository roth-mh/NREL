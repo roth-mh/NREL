{
 "cells": [
  {
   "cell_type": "code",
   "execution_count": 1,
   "id": "0dcaa6ec",
   "metadata": {},
   "outputs": [],
   "source": [
    "import h5pyd\n",
    "import requests\n",
    "import pandas as pd"
   ]
  },
  {
   "cell_type": "markdown",
   "id": "0cf47a0a",
   "metadata": {},
   "source": [
    "### DATA PROCESSING STEPS\n",
    "##### 1. acquiring API KEY\n",
    "##### 2. specifying parameters of interest\n",
    "##### 3. wrangling the api response; reading it as a text and string manipulation to read it into a df\n",
    "##### 4. save pandas df"
   ]
  },
  {
   "cell_type": "code",
   "execution_count": null,
   "id": "88a54951",
   "metadata": {},
   "outputs": [],
   "source": [
    "LATLONG = \"-87.669888 42.052294\"\n",
    "API_KEY = \"19dv992vs4tNDqBmz2qX5UIWERNrFtyNcHoX6JdH\"\n",
    "\n",
    "base_url = \"https://developer.nrel.gov/api/wind-toolkit/v2/wind/offshore-great-lakes-download.csv?\"\n",
    "params = f\"wkt=POINT({LATLONG})&attributes=wind_speed,wind_direction,pressure,temperature&names=2012&utc=false&leap_day=true&full_name=Mark%20Roth&email=rothmark%40oregonstate.edu&api_key={API_KEY}\"\n",
    "z = requests.get(base_url+params)"
   ]
  },
  {
   "cell_type": "code",
   "execution_count": null,
   "id": "247ee20b",
   "metadata": {
    "pycharm": {
     "name": "#%%\n"
    }
   },
   "outputs": [],
   "source": [
    "lines = z.text.split(\"\\n\")\n",
    "meta_data = lines[0:2]\n",
    "header_names = lines[2:3]"
   ]
  },
  {
   "cell_type": "code",
   "execution_count": null,
   "id": "901be73e",
   "metadata": {
    "pycharm": {
     "name": "#%%\n"
    }
   },
   "outputs": [],
   "source": [
    "rows = [x.split(\",\") for x in lines[3:]]\n",
    "df = pd.DataFrame(rows)\n",
    "print('done')"
   ]
  },
  {
   "cell_type": "code",
   "execution_count": null,
   "id": "e5dbded7",
   "metadata": {
    "pycharm": {
     "name": "#%%\n"
    }
   },
   "outputs": [],
   "source": [
    "df.columns = header_names[0].split(\",\")\n",
    "df.head()"
   ]
  },
  {
   "cell_type": "code",
   "execution_count": null,
   "id": "42937be3",
   "metadata": {
    "pycharm": {
     "name": "#%%\n"
    }
   },
   "outputs": [],
   "source": [
    "df.to_csv(\"~/Desktop/NREL/lakefill_df.csv\", index=False)"
   ]
  },
  {
   "cell_type": "markdown",
   "id": "e1cac48e",
   "metadata": {
    "pycharm": {
     "name": "#%% md\n"
    }
   },
   "source": [
    "### Data Exploration\n",
    "\n",
    "#### Assumptions:\n",
    "- diurnal means occurring in the daytime (e.g., looking at 6am-6pm of each day) as opposed to daily\n",
    "- I made this assumption because energy consumption varies drastically during the day vs the night\n",
    "- we can change the interpretation of diurnal to mean daily if we switch the \"IS_DAILY\" flag to True"
   ]
  },
  {
   "cell_type": "code",
   "execution_count": 2,
   "id": "b2974b04",
   "metadata": {
    "pycharm": {
     "name": "#%%\n"
    }
   },
   "outputs": [],
   "source": [
    "import plotly.express as xp\n",
    "import matplotlib\n",
    "import plotly.figure_factory as ff\n",
    "import pandas as pd\n",
    "import plotly.graph_objects as go\n",
    "import numpy as np"
   ]
  },
  {
   "cell_type": "code",
   "execution_count": null,
   "id": "ccbcd722",
   "metadata": {
    "pycharm": {
     "name": "#%%\n"
    }
   },
   "outputs": [],
   "source": [
    "df = pd.read_csv(\"~/Documents/NREL/lakefill_df.csv\")\n",
    "# if not IS_DAILY:\n",
    "#     df = df[df['Hour'] < 18]\n",
    "#     df = df[df['Hour'] > 5]\n",
    "# diurnal_df = df.groupby(['Month', 'Day'], as_index=False).mean()\n",
    "# df_std = df[['Month', 'Day', 'wind speed at 100m (m/s)']].groupby(['Month', 'Day'], as_index=False).agg(np.std)\n",
    "# diurnal_df['wind speed std'] = df_std['wind speed at 100m (m/s)']\n",
    "# diurnal_df = df.groupby(['Month', 'Day'], as_index=False).agg(['mean', np.std])"
   ]
  },
  {
   "cell_type": "code",
   "execution_count": null,
   "id": "94ff388e",
   "metadata": {
    "pycharm": {
     "name": "#%%\n"
    }
   },
   "outputs": [],
   "source": [
    "# df.columns\n",
    "z = df.drop(\"Hour\", axis=1)\n"
   ]
  },
  {
   "cell_type": "code",
   "execution_count": 42,
   "id": "ec02a5dc",
   "metadata": {
    "pycharm": {
     "name": "#%%\n"
    }
   },
   "outputs": [],
   "source": [
    "# can be made to take a continuous variable (i.e., number of days to aggregate) \n",
    "# rather than a categorical variable\n",
    "def filter_df_by_time(df, scale, rolling_unit=7, is_daily=True):\n",
    "    \"\"\"\n",
    "    function to filter a dataframe to examine different temporal scales\n",
    "\n",
    "    :param df:      dataframe for filtering; should have the following\n",
    "                    columns: Hour, Day, Month, Year, wind speed at\n",
    "                    100m (m/s)\n",
    "\n",
    "    :param scale:   desired temporal scale for analysis; should be one\n",
    "                    of the following: MONTHLY, HOURLY, DIURNAL\n",
    "\n",
    "    :param rolling_unit:   unit of measurement to calculate rolling avg\n",
    "\n",
    "    :return:        df filtered by the way specified in scale, with the\n",
    "                    addition of (1) the wind speed std calc over the\n",
    "                    same scale and (2) unit rolling average\n",
    "    \"\"\"\n",
    "\n",
    "    if scale == DIURNAL:\n",
    "        if not is_daily:\n",
    "            df = df[df['Hour'] < 19]\n",
    "            df = df[df['Hour'] > 5]\n",
    "        groupby_cols = ['Month', 'Day']\n",
    "        gb_speed = ['Month', 'Day', 'wind speed at 100m (m/s)']\n",
    "    \n",
    "    elif scale == MONTHLY:\n",
    "        groupby_cols = ['Month']\n",
    "        gb_speed = ['Month', 'wind speed at 100m (m/s)']\n",
    "\n",
    "    elif scale == HOURLY:\n",
    "        groupby_cols = ['Month', 'Day', 'Hour']\n",
    "        gb_speed = ['Month', 'Day', 'Hour', 'wind speed at 100m (m/s)']\n",
    "\n",
    "    df_std = df[gb_speed].groupby(groupby_cols, as_index=False).agg(np.std)\n",
    "    df = df.groupby(groupby_cols, as_index=False).mean()\n",
    "    df['wind speed std'] = df_std['wind speed at 100m (m/s)']\n",
    "\n",
    "    df['date'] = pd.to_datetime(\n",
    "        df[['Month', 'Day', 'Year']],\n",
    "        infer_datetime_format=True\n",
    "    )\n",
    "    if scale == HOURLY:\n",
    "        df['date+hour'] = pd.to_datetime(\n",
    "            df[['Hour', 'Month', 'Day', 'Year']],\n",
    "            infer_datetime_format=True\n",
    "        )\n",
    "\n",
    "    df['rolling avg'] = df['wind speed at 100m (m/s)'].rolling(rolling_unit).mean()\n",
    "\n",
    "    return df\n",
    "\n",
    "\n",
    "def base_graph(df, scale, highlight_type, var_of_interest=\"wind speed at 100m (m/s)\", thresh=7):\n",
    "    x_axis = 'date'\n",
    "    if scale == HOURLY:\n",
    "        x_axis = 'date+hour'\n",
    "\n",
    "    # TODO: mix btwn hard code and variable var of interest\n",
    "    t0 = go.Bar(\n",
    "        x=df[x_axis],\n",
    "        y=df[var_of_interest],\n",
    "        error_y=dict(\n",
    "                type='data',\n",
    "                array=df[\"wind speed std\"],\n",
    "                visible=True),\n",
    "        name=\"wind speed at 100m (m/s)\"\n",
    "    )\n",
    "    t1 = go.Scatter(x=df[x_axis], y=[df[var_of_interest].mean()]*len(df), name=\"avg wind speed\")\n",
    "    t2 = go.Scatter(x=df[x_axis], y=df[\"rolling avg\"], name=f\"{thresh} unit average: {scale}\")\n",
    "\n",
    "    if highlight_type is not None:\n",
    "        # this categorical variable could easily be turned into a slider (continuous)\n",
    "        if highlight_type in [\"top10\", \"above avg\"]:\n",
    "            if highlight_type == \"top10\":\n",
    "                q = .9\n",
    "                q_val = df[var_of_interest].quantile(q)\n",
    "                perc = 10\n",
    "            elif highlight_type == \"above avg\":\n",
    "                q_val = df[var_of_interest].mean()\n",
    "                perc = 50\n",
    "\n",
    "            hi_df = df[df[var_of_interest] >= q_val]\n",
    "            reg_df = df[df[var_of_interest] < q_val]\n",
    "            tr_name = f\"TOP {perc}% of wind speeds\"\n",
    "\n",
    "\n",
    "        # find idx with highest 7 day average and work 7 idx back from that\n",
    "        if highlight_type == \"7avg\":\n",
    "            idx = df[var_of_interest].idxmax()\n",
    "            hi_df = df.iloc[(idx-6):(idx+1)]\n",
    "            reg_df = df.drop([x for x in range(idx-6, idx+1)])\n",
    "            tr_name = f\"Greatest 7 Unit Sum of Wind Speed: {scale}\"\n",
    "    \n",
    "        t0 = go.Bar(\n",
    "            x=reg_df[x_axis],\n",
    "            y=reg_df[var_of_interest],\n",
    "            error_y=dict(\n",
    "                    type='data',\n",
    "                    array=reg_df[\"wind speed std\"],\n",
    "                    visible=True),\n",
    "            name=\"wind speed at 100m (m/s)\"\n",
    "        )\n",
    "\n",
    "        t3 = go.Bar(\n",
    "            x=hi_df[x_axis],\n",
    "            y=hi_df[var_of_interest],\n",
    "            error_y=dict(\n",
    "                    type='data',\n",
    "                    array=hi_df[\"wind speed std\"],\n",
    "                    visible=True),\n",
    "            name=tr_name,\n",
    "            marker_color=\"red\"\n",
    "        )\n",
    "\n",
    "    traces = [t0, t1]\n",
    "    \n",
    "    if scale in [DIURNAL, HOURLY]:\n",
    "        traces.append(t2)\n",
    "\n",
    "    if highlight_type is not None:\n",
    "        traces.append(t3)\n",
    "\n",
    "    fig = go.Figure(data=traces)\n",
    "    fig.update_layout(title=f\"{scale} Wind Speed Variability\")\n",
    "    return fig\n",
    "\n",
    "\n",
    "def agg_by(df, scale=\"Hour\", var_of_interest=\"wind speed at 100m (m/s)\"):\n",
    "    if not IS_DAILY:\n",
    "        df = df[df['Hour'] < 19]\n",
    "        df = df[df['Hour'] > 5]\n",
    "    df = df.groupby([scale], as_index=False).mean()\n",
    "    return df[[scale, var_of_interest]]\n",
    "\n",
    "def heat_map_corr_mat(df, var_of_interest='wind speed at 100m (m/s)'):\n",
    "    EXCLUDE = [\"Hour\", \"Day\", \"date\", \"date+hour\", \"Year\", \"Month\", \"Minute\", \"rolling avg\", \"wind speed std\"]\n",
    "    to_keep = list(set(df.columns) - set(EXCLUDE))\n",
    "    df_corr = df[to_keep]\n",
    "    # df_corr.columns\n",
    "    cors = []\n",
    "    for x in df_corr.columns:\n",
    "        cors.append(str(round(df_corr[var_of_interest].corr(df_corr[x]), 4)))\n",
    "\n",
    "    fig = go.Figure(data=[go.Table(\n",
    "        header=dict(values=['Variable', 'Correlation'],\n",
    "                    line_color='darkslategray',\n",
    "                    fill_color='lightgreen',\n",
    "                    align='center'),\n",
    "        cells=dict(values=[df_corr.columns, # 1st column\n",
    "                           cors], # 2nd column\n",
    "                   line_color='darkslategray',\n",
    "                   fill_color='lightcyan',\n",
    "                   align='center'))\n",
    "    ])\n",
    "\n",
    "    return fig\n",
    "\n",
    "\n",
    "\n",
    "# def consecutive_hours_above(df, thresh):\n",
    "\n",
    "\n"
   ]
  },
  {
   "cell_type": "markdown",
   "id": "ce6fdb8a",
   "metadata": {},
   "source": [
    "## DASH components setup"
   ]
  },
  {
   "cell_type": "code",
   "execution_count": 6,
   "id": "0490ffe1",
   "metadata": {
    "pycharm": {
     "name": "#%%\n"
    }
   },
   "outputs": [],
   "source": [
    "import dash\n",
    "from dash import dcc\n",
    "from dash import html\n",
    "from dash import Input, Output"
   ]
  },
  {
   "cell_type": "code",
   "execution_count": 43,
   "id": "8cfb82da",
   "metadata": {
    "pycharm": {
     "name": "#%%\n"
    }
   },
   "outputs": [
    {
     "name": "stdout",
     "output_type": "stream",
     "text": [
      "Dash is running on http://127.0.0.1:8050/\n",
      "\n",
      "Dash is running on http://127.0.0.1:8050/\n",
      "\n",
      "Dash is running on http://127.0.0.1:8050/\n",
      "\n",
      "Dash is running on http://127.0.0.1:8050/\n",
      "\n",
      "Dash is running on http://127.0.0.1:8050/\n",
      "\n",
      "Dash is running on http://127.0.0.1:8050/\n",
      "\n",
      "Dash is running on http://127.0.0.1:8050/\n",
      "\n",
      "Dash is running on http://127.0.0.1:8050/\n",
      "\n",
      "Dash is running on http://127.0.0.1:8050/\n",
      "\n",
      "Dash is running on http://127.0.0.1:8050/\n",
      "\n",
      "Dash is running on http://127.0.0.1:8050/\n",
      "\n",
      "Dash is running on http://127.0.0.1:8050/\n",
      "\n",
      "Dash is running on http://127.0.0.1:8050/\n",
      "\n",
      " * Serving Flask app '__main__' (lazy loading)\n",
      " * Environment: production\n",
      "\u001B[31m   WARNING: This is a development server. Do not use it in a production deployment.\u001B[0m\n",
      "\u001B[2m   Use a production WSGI server instead.\u001B[0m\n",
      " * Debug mode: on\n"
     ]
    }
   ],
   "source": [
    "DIURNAL = \"Diurnal\"\n",
    "MONTHLY = \"Monthly\"\n",
    "HOURLY = \"Hourly\"\n",
    "IS_DAILY = True\n",
    "# sacle: replace this w a curl request & data filtering from above\n",
    "df = pd.read_csv(\"~/Documents/NREL/lakefill_df.csv\")\n",
    "\n",
    "di_df = filter_df_by_time(df, DIURNAL, rolling_unit=7, is_daily=IS_DAILY)\n",
    "mn_df = filter_df_by_time(df, MONTHLY)\n",
    "hr_df = filter_df_by_time(df, HOURLY, rolling_unit=5)\n",
    "app = dash.Dash()\n",
    "app.layout = html.Div([\n",
    "    dcc.Dropdown(\n",
    "        id='base-graph-dropdown',\n",
    "        options=[\n",
    "            {'label': 'Diurnal', 'value': DIURNAL},\n",
    "            {'label': 'Monthly', 'value': MONTHLY},\n",
    "            {'label': 'Hourly', 'value': HOURLY}\n",
    "            # {'label': 'Weekly', 'value': 'wk'}\n",
    "        ],\n",
    "        value=DIURNAL\n",
    "    ),\n",
    "    dcc.Dropdown(\n",
    "        id='highlight-graph-dropdown',\n",
    "    ),\n",
    "    html.Div(id='base-graph-output-container'),\n",
    "\n",
    "    dcc.Dropdown(\n",
    "        id='bar-x-axis',\n",
    "        options=[\n",
    "            {'label': 'Avg Wind by Hour', 'value': 'aWbH'},\n",
    "            {'label': 'Correlation Matrix', 'value': 'CorMat'},\n",
    "            # {'label': 'Month', 'value': 'Month'}\n",
    "        ],\n",
    "        value=\"aWbH\"\n",
    "    ),\n",
    "    html.Div(id='bar-output-container')\n",
    "])\n",
    "\n",
    "@app.callback(\n",
    "    Output('highlight-graph-dropdown', 'options'),\n",
    "    Input('base-graph-dropdown', 'value'),\n",
    ")\n",
    "def update_dropdown(temporal_scale):\n",
    "    if temporal_scale in [DIURNAL, HOURLY]:\n",
    "        return [\n",
    "            {'label': 'Top 10%', 'value': 'top10'},\n",
    "            {'label': 'Above Average', 'value': 'above avg'},\n",
    "            {'label': f'Largest 7 {temporal_scale} Period', 'value': '7avg'}\n",
    "        ]\n",
    "    elif temporal_scale == MONTHLY:\n",
    "        return [\n",
    "            {'label': 'Top 10%', 'value': 'top10'},\n",
    "            {'label': 'Above Average', 'value': 'above avg'}\n",
    "        ]\n",
    "\n",
    "\n",
    "@app.callback(\n",
    "    Output('base-graph-output-container', 'children'),\n",
    "    Input('base-graph-dropdown', 'value'),\n",
    "    Input('highlight-graph-dropdown', 'value')\n",
    ")\n",
    "def update_output(temp_scale, highlight_type):\n",
    "    if temp_scale == DIURNAL:\n",
    "        df_to_plot = di_df\n",
    "    elif temp_scale == MONTHLY:\n",
    "        df_to_plot = mn_df\n",
    "    elif temp_scale == HOURLY:\n",
    "        df_to_plot = hr_df\n",
    "    fig = base_graph(df_to_plot, temp_scale, highlight_type)\n",
    "    return dcc.Graph(figure=fig)\n",
    "\n",
    "\n",
    "@app.callback(\n",
    "    Output('bar-output-container', 'children'),\n",
    "    Input('bar-x-axis', 'value'),\n",
    "    Input('base-graph-dropdown', 'value')\n",
    ")\n",
    "def update_secondary(bar_type, temp_input):\n",
    "\n",
    "    if bar_type == \"aWbH\":\n",
    "        # it would be nice to have this change based on the\n",
    "        # dynamic x-range that plotly offers\n",
    "        hist_df = agg_by(df)\n",
    "        t0 = go.Bar(\n",
    "            x=hist_df[\"Hour\"],\n",
    "            y=hist_df[\"wind speed at 100m (m/s)\"],\n",
    "            name=\"wind speed at 100m (m/s)\"\n",
    "        )\n",
    "        traces = [t0]\n",
    "        fig = go.Figure(data=traces)\n",
    "        fig.update_layout(title=f\"Wind Speed Variability X Hour\")\n",
    "\n",
    "    elif bar_type == \"CorMat\":\n",
    "        if temp_input == DIURNAL:\n",
    "            df_to_plot = di_df\n",
    "        elif temp_input == MONTHLY:\n",
    "            df_to_plot = mn_df\n",
    "        elif temp_input == HOURLY:\n",
    "            df_to_plot = hr_df\n",
    "        else:\n",
    "            exit(f\"ERROR; bar_type not {DIURNAL} nor {MONTHLY}\")\n",
    "\n",
    "        fig = heat_map_corr_mat(df_to_plot)\n",
    "\n",
    "    return dcc.Graph(figure=fig)\n",
    "\n",
    "app.run_server(debug=True, use_reloader=False)"
   ]
  },
  {
   "cell_type": "code",
   "execution_count": 36,
   "id": "65a40445",
   "metadata": {
    "pycharm": {
     "name": "#%%\n"
    }
   },
   "outputs": [
    {
     "data": {
      "text/plain": "True"
     },
     "execution_count": 36,
     "metadata": {},
     "output_type": "execute_result"
    }
   ],
   "source": [
    "# var_of_interest\n",
    "# print(2)\n",
    "# idx = df[\"wind speed at 100m (m/s)\"].idxmax()"
   ]
  },
  {
   "cell_type": "code",
   "execution_count": null,
   "id": "4349e7a6",
   "metadata": {
    "pycharm": {
     "name": "#%%\n"
    }
   },
   "outputs": [],
   "source": [
    "\n"
   ]
  }
 ],
 "metadata": {
  "kernelspec": {
   "display_name": "NREL",
   "language": "python",
   "name": "nrel"
  },
  "language_info": {
   "codemirror_mode": {
    "name": "ipython",
    "version": 3
   },
   "file_extension": ".py",
   "mimetype": "text/x-python",
   "name": "python",
   "nbconvert_exporter": "python",
   "pygments_lexer": "ipython3",
   "version": "3.8.0"
  }
 },
 "nbformat": 4,
 "nbformat_minor": 5
}