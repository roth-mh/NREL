{
 "cells": [
  {
   "cell_type": "code",
   "execution_count": 1,
   "id": "0dcaa6ec",
   "metadata": {},
   "outputs": [],
   "source": [
    "import h5pyd\n",
    "import requests\n",
    "import pandas as pd"
   ]
  },
  {
   "cell_type": "markdown",
   "source": [
    "### DATA PROCESSING STEPS\n",
    "##### 1. acquiring API KEY\n",
    "##### 2. specifying parameters of interest\n",
    "##### 3. wrangling the api response; reading it as a text and string manipulation to read it into a df\n",
    "##### 4. save pandas df"
   ],
   "metadata": {
    "collapsed": false
   }
  },
  {
   "cell_type": "code",
   "execution_count": 46,
   "id": "88a54951",
   "metadata": {},
   "outputs": [],
   "source": [
    "API_KEY = \"19dv992vs4tNDqBmz2qX5UIWERNrFtyNcHoX6JdH\"\n",
    "\n",
    "base_url = \"https://developer.nrel.gov/api/wind-toolkit/v2/wind/offshore-great-lakes-download.csv?\"\n",
    "params = f\"wkt=POINT(-87.669888 42.052294)&attributes=wind_speed,wind_direction,pressure,temperature&names=2012&utc=false&leap_day=true&full_name=Mark%20Roth&email=rothmark%40oregonstate.edu&api_key={API_KEY}\"\n",
    "z = requests.get(base_url+params)"
   ]
  },
  {
   "cell_type": "code",
   "execution_count": 71,
   "outputs": [],
   "source": [
    "lines = z.text.split(\"\\n\")\n",
    "meta_data = lines[0:2]\n",
    "header_names = lines[2:3]"
   ],
   "metadata": {
    "collapsed": false,
    "pycharm": {
     "name": "#%%\n"
    }
   }
  },
  {
   "cell_type": "code",
   "execution_count": 83,
   "outputs": [
    {
     "name": "stdout",
     "output_type": "stream",
     "text": [
      "done\n"
     ]
    }
   ],
   "source": [
    "rows = [x.split(\",\") for x in lines[3:]]\n",
    "df = pd.DataFrame(rows)\n",
    "print('done')"
   ],
   "metadata": {
    "collapsed": false,
    "pycharm": {
     "name": "#%%\n"
    }
   }
  },
  {
   "cell_type": "code",
   "execution_count": 84,
   "outputs": [
    {
     "data": {
      "text/plain": "   Year Month Day Hour Minute wind speed at 100m (m/s)  \\\n0  2012     1   1    0     30                    14.86   \n1  2012     1   1    1     30                    14.76   \n2  2012     1   1    2     30                    15.26   \n3  2012     1   1    3     30                    14.56   \n4  2012     1   1    4     30       13.450000000000001   \n\n  wind direction at 100m (deg) air pressure at 100m (Pa)  \\\n0                       179.16                     97110   \n1           186.39000000000001                     96950   \n2           192.45000000000002                     96820   \n3                        203.3                     96680   \n4           217.14000000000001                     96530   \n\n  air temperature at 100m (C)  \n0                        4.57  \n1                        4.94  \n2                        5.11  \n3          5.2700000000000005  \n4                        4.94  ",
      "text/html": "<div>\n<style scoped>\n    .dataframe tbody tr th:only-of-type {\n        vertical-align: middle;\n    }\n\n    .dataframe tbody tr th {\n        vertical-align: top;\n    }\n\n    .dataframe thead th {\n        text-align: right;\n    }\n</style>\n<table border=\"1\" class=\"dataframe\">\n  <thead>\n    <tr style=\"text-align: right;\">\n      <th></th>\n      <th>Year</th>\n      <th>Month</th>\n      <th>Day</th>\n      <th>Hour</th>\n      <th>Minute</th>\n      <th>wind speed at 100m (m/s)</th>\n      <th>wind direction at 100m (deg)</th>\n      <th>air pressure at 100m (Pa)</th>\n      <th>air temperature at 100m (C)</th>\n    </tr>\n  </thead>\n  <tbody>\n    <tr>\n      <th>0</th>\n      <td>2012</td>\n      <td>1</td>\n      <td>1</td>\n      <td>0</td>\n      <td>30</td>\n      <td>14.86</td>\n      <td>179.16</td>\n      <td>97110</td>\n      <td>4.57</td>\n    </tr>\n    <tr>\n      <th>1</th>\n      <td>2012</td>\n      <td>1</td>\n      <td>1</td>\n      <td>1</td>\n      <td>30</td>\n      <td>14.76</td>\n      <td>186.39000000000001</td>\n      <td>96950</td>\n      <td>4.94</td>\n    </tr>\n    <tr>\n      <th>2</th>\n      <td>2012</td>\n      <td>1</td>\n      <td>1</td>\n      <td>2</td>\n      <td>30</td>\n      <td>15.26</td>\n      <td>192.45000000000002</td>\n      <td>96820</td>\n      <td>5.11</td>\n    </tr>\n    <tr>\n      <th>3</th>\n      <td>2012</td>\n      <td>1</td>\n      <td>1</td>\n      <td>3</td>\n      <td>30</td>\n      <td>14.56</td>\n      <td>203.3</td>\n      <td>96680</td>\n      <td>5.2700000000000005</td>\n    </tr>\n    <tr>\n      <th>4</th>\n      <td>2012</td>\n      <td>1</td>\n      <td>1</td>\n      <td>4</td>\n      <td>30</td>\n      <td>13.450000000000001</td>\n      <td>217.14000000000001</td>\n      <td>96530</td>\n      <td>4.94</td>\n    </tr>\n  </tbody>\n</table>\n</div>"
     },
     "execution_count": 84,
     "metadata": {},
     "output_type": "execute_result"
    }
   ],
   "source": [
    "df.columns = header_names[0].split(\",\")\n",
    "df.head()"
   ],
   "metadata": {
    "collapsed": false,
    "pycharm": {
     "name": "#%%\n"
    }
   }
  },
  {
   "cell_type": "code",
   "execution_count": 85,
   "outputs": [],
   "source": [
    "df.to_csv(\"~/Desktop/NREL/lakefill_df.csv\", index=False)"
   ],
   "metadata": {
    "collapsed": false,
    "pycharm": {
     "name": "#%%\n"
    }
   }
  },
  {
   "cell_type": "markdown",
   "source": [
    "### Data Exploration\n",
    "\n",
    "#### Assumptions:\n",
    "- diurnal means occurring in the daytime (e.g., looking at 6am-6pm of each day) as opposed to daily\n",
    "- I made this assumption because energy consumption varies drastically during the day vs the night\n",
    "- we can change the interpretation of diurnal to mean daily if we switch the \"IS_DAILY\" flag to True"
   ],
   "metadata": {
    "collapsed": false,
    "pycharm": {
     "name": "#%% md\n"
    }
   }
  },
  {
   "cell_type": "code",
   "execution_count": 2,
   "outputs": [],
   "source": [
    "import plotly.express as xp\n",
    "import matplotlib\n",
    "import plotly.figure_factory as ff\n",
    "import pandas as pd\n",
    "import plotly.graph_objects as go\n",
    "import numpy as np\n",
    "IS_DAILY = False"
   ],
   "metadata": {
    "collapsed": false,
    "pycharm": {
     "name": "#%%\n"
    }
   }
  },
  {
   "cell_type": "code",
   "execution_count": 4,
   "outputs": [],
   "source": [
    "df = pd.read_csv(\"~/Documents/NREL/lakefill_df.csv\")\n",
    "# if not IS_DAILY:\n",
    "#     df = df[df['Hour'] < 18]\n",
    "#     df = df[df['Hour'] > 5]\n",
    "# diurnal_df = df.groupby(['Month', 'Day'], as_index=False).mean()\n",
    "# df_std = df[['Month', 'Day', 'wind speed at 100m (m/s)']].groupby(['Month', 'Day'], as_index=False).agg(np.std)\n",
    "# diurnal_df['wind speed std'] = df_std['wind speed at 100m (m/s)']\n",
    "# diurnal_df = df.groupby(['Month', 'Day'], as_index=False).agg(['mean', np.std])"
   ],
   "metadata": {
    "collapsed": false,
    "pycharm": {
     "name": "#%%\n"
    }
   }
  },
  {
   "cell_type": "code",
   "execution_count": 12,
   "outputs": [
    {
     "data": {
      "text/plain": "     Year  Month  Day  Hour  Minute  wind speed at 100m (m/s)  \\\n0  2012.0    1.0  1.0   0.0    30.0                     14.86   \n1  2012.0    1.0  1.0   1.0    30.0                     14.76   \n2  2012.0    1.0  1.0   2.0    30.0                     15.26   \n3  2012.0    1.0  1.0   3.0    30.0                     14.56   \n4  2012.0    1.0  1.0   4.0    30.0                     13.45   \n\n   wind direction at 100m (deg)  air pressure at 100m (Pa)  \\\n0                        179.16                    97110.0   \n1                        186.39                    96950.0   \n2                        192.45                    96820.0   \n3                        203.30                    96680.0   \n4                        217.14                    96530.0   \n\n   air temperature at 100m (C)  \n0                         4.57  \n1                         4.94  \n2                         5.11  \n3                         5.27  \n4                         4.94  ",
      "text/html": "<div>\n<style scoped>\n    .dataframe tbody tr th:only-of-type {\n        vertical-align: middle;\n    }\n\n    .dataframe tbody tr th {\n        vertical-align: top;\n    }\n\n    .dataframe thead th {\n        text-align: right;\n    }\n</style>\n<table border=\"1\" class=\"dataframe\">\n  <thead>\n    <tr style=\"text-align: right;\">\n      <th></th>\n      <th>Year</th>\n      <th>Month</th>\n      <th>Day</th>\n      <th>Hour</th>\n      <th>Minute</th>\n      <th>wind speed at 100m (m/s)</th>\n      <th>wind direction at 100m (deg)</th>\n      <th>air pressure at 100m (Pa)</th>\n      <th>air temperature at 100m (C)</th>\n    </tr>\n  </thead>\n  <tbody>\n    <tr>\n      <th>0</th>\n      <td>2012.0</td>\n      <td>1.0</td>\n      <td>1.0</td>\n      <td>0.0</td>\n      <td>30.0</td>\n      <td>14.86</td>\n      <td>179.16</td>\n      <td>97110.0</td>\n      <td>4.57</td>\n    </tr>\n    <tr>\n      <th>1</th>\n      <td>2012.0</td>\n      <td>1.0</td>\n      <td>1.0</td>\n      <td>1.0</td>\n      <td>30.0</td>\n      <td>14.76</td>\n      <td>186.39</td>\n      <td>96950.0</td>\n      <td>4.94</td>\n    </tr>\n    <tr>\n      <th>2</th>\n      <td>2012.0</td>\n      <td>1.0</td>\n      <td>1.0</td>\n      <td>2.0</td>\n      <td>30.0</td>\n      <td>15.26</td>\n      <td>192.45</td>\n      <td>96820.0</td>\n      <td>5.11</td>\n    </tr>\n    <tr>\n      <th>3</th>\n      <td>2012.0</td>\n      <td>1.0</td>\n      <td>1.0</td>\n      <td>3.0</td>\n      <td>30.0</td>\n      <td>14.56</td>\n      <td>203.30</td>\n      <td>96680.0</td>\n      <td>5.27</td>\n    </tr>\n    <tr>\n      <th>4</th>\n      <td>2012.0</td>\n      <td>1.0</td>\n      <td>1.0</td>\n      <td>4.0</td>\n      <td>30.0</td>\n      <td>13.45</td>\n      <td>217.14</td>\n      <td>96530.0</td>\n      <td>4.94</td>\n    </tr>\n  </tbody>\n</table>\n</div>"
     },
     "execution_count": 12,
     "metadata": {},
     "output_type": "execute_result"
    }
   ],
   "source": [
    "# df.columns\n",
    "z = df.drop(\"Hour\", axis=1)\n"
   ],
   "metadata": {
    "collapsed": false,
    "pycharm": {
     "name": "#%%\n"
    }
   }
  },
  {
   "cell_type": "code",
   "execution_count": 49,
   "outputs": [],
   "source": [
    "# can be made to take a continuous variable (i.e., number of days to aggregate) \n",
    "# rather than a categorical variable\n",
    "def filter_df_by_time(df, scale):\n",
    "    \"\"\"\n",
    "    function to filter a dataframe to examine different temporal scales\n",
    "\n",
    "    :param df:      dataframe for filtering; should have the following\n",
    "                    columns: Hour, Day, Month, Year, wind speed at\n",
    "                    100m (m/s)\n",
    "\n",
    "    :param scale:   desired temporal scale for analysis; should be one\n",
    "                    of the following: drnl, mnth\n",
    "\n",
    "    :return:        df filtered by the way specified in scale, with the\n",
    "                    addition of (1) the wind speed std calc over the\n",
    "                    same scale and (2) 7 day rolling average\n",
    "    \"\"\"\n",
    "\n",
    "    if scale == DIURNAL:\n",
    "        df = df[df['Hour'] < 19]\n",
    "        df = df[df['Hour'] > 5]\n",
    "        df_std = df[['Month', 'Day', 'wind speed at 100m (m/s)']].groupby(['Month', 'Day'], as_index=False).agg(np.std)\n",
    "        df = df.groupby(['Month', 'Day'], as_index=False).mean()\n",
    "        df['wind speed std'] = df_std['wind speed at 100m (m/s)']\n",
    "    \n",
    "    elif scale == MONTHLY:\n",
    "        df_std = df[['Month', 'wind speed at 100m (m/s)']].groupby(['Month'], as_index=False).agg(np.std)\n",
    "        df = df.groupby(['Month'], as_index=False).mean()\n",
    "        df['wind speed std'] = df_std['wind speed at 100m (m/s)']\n",
    "\n",
    "    df['date'] = pd.to_datetime(\n",
    "        df[['Month', 'Day', 'Year']],\n",
    "        infer_datetime_format=True\n",
    "    )\n",
    "\n",
    "    df['7day avg'] = df['wind speed at 100m (m/s)'].rolling(7).mean()\n",
    "\n",
    "    return df\n",
    "\n",
    "\n",
    "def base_graph(df, scale):\n",
    "    t0 = go.Bar(\n",
    "        x=df['date'],\n",
    "        y=df[\"wind speed at 100m (m/s)\"],\n",
    "        error_y=dict(\n",
    "                type='data',\n",
    "                array=df[\"wind speed std\"],\n",
    "                visible=True),\n",
    "        name=\"wind speed at 100m (m/s)\"\n",
    "    )\n",
    "    t1 = go.Scatter(x=df['date'], y=[df[\"wind speed at 100m (m/s)\"].mean()]*len(df), name=\"avg wind speed\")\n",
    "    t2 = go.Scatter(x=df['date'], y=df[\"7day avg\"], name=\"7 day average\")\n",
    "\n",
    "    traces = [t0, t1]\n",
    "    if scale == DIURNAL:\n",
    "        traces.append(t2)\n",
    "\n",
    "    fig = go.Figure(data=traces)\n",
    "    fig.update_layout(title=f\"{scale} Wind Speed Variability\")\n",
    "    return fig\n",
    "\n",
    "\n",
    "def agg_by(df, temporal, scale=\"Hour\", var_of_interest=\"wind speed at 100m (m/s)\"):\n",
    "    # df_std = df[[scale, var_of_interest]].groupby([scale], as_index=False).agg(np.std)\n",
    "    # TODO: currently hard coded for diurnal analysis\n",
    "    if temporal == DIURNAL:\n",
    "        df = df[df['Hour'] < 19]\n",
    "        df = df[df['Hour'] > 5]\n",
    "    df = df.groupby([scale], as_index=False).mean()\n",
    "    # TODO: inconsistent variables vs hardcoding\n",
    "    # df['wind speed var'] = df_std[\"wind speed at 100m (m/s)\"]\n",
    "    return df[[scale, var_of_interest]]\n",
    "\n",
    "def heat_map_corr_mat(df, var_of_interest='wind speed at 100m (m/s)'):\n",
    "    EXCLUDE = [\"Hour\", \"Day\", \"date\", \"Year\", \"Month\", \"Minute\", \"7day avg\", \"wind speed std\"]\n",
    "    to_keep = list(set(df.columns) - set(EXCLUDE))\n",
    "    df_corr = df[to_keep]\n",
    "    # df_corr.columns\n",
    "    cors = []\n",
    "    for x in df_corr.columns:\n",
    "        cors.append(str(round(df_corr[var_of_interest].corr(df_corr[x]), 4)))\n",
    "\n",
    "    fig = go.Figure(data=[go.Table(\n",
    "        header=dict(values=['Variable', 'Correlation'],\n",
    "                    line_color='darkslategray',\n",
    "                    fill_color='lightgreen',\n",
    "                    align='center'),\n",
    "        cells=dict(values=[df_corr.columns, # 1st column\n",
    "                           cors], # 2nd column\n",
    "                   line_color='darkslategray',\n",
    "                   fill_color='lightcyan',\n",
    "                   align='center'))\n",
    "    ])\n",
    "\n",
    "    return fig\n"
   ],
   "metadata": {
    "collapsed": false,
    "pycharm": {
     "name": "#%%\n"
    }
   }
  },
  {
   "cell_type": "markdown",
   "source": [
    "## DASH components setup"
   ],
   "metadata": {
    "collapsed": false
   }
  },
  {
   "cell_type": "code",
   "execution_count": 47,
   "outputs": [],
   "source": [
    "import dash\n",
    "from dash import dcc\n",
    "from dash import html\n",
    "from dash import Input, Output"
   ],
   "metadata": {
    "collapsed": false,
    "pycharm": {
     "name": "#%%\n"
    }
   }
  },
  {
   "cell_type": "code",
   "execution_count": null,
   "outputs": [
    {
     "name": "stdout",
     "output_type": "stream",
     "text": [
      "Dash is running on http://127.0.0.1:8050/\n",
      "\n",
      "Dash is running on http://127.0.0.1:8050/\n",
      "\n",
      "Dash is running on http://127.0.0.1:8050/\n",
      "\n",
      "Dash is running on http://127.0.0.1:8050/\n",
      "\n",
      "Dash is running on http://127.0.0.1:8050/\n",
      "\n",
      " * Serving Flask app '__main__' (lazy loading)\n",
      " * Environment: production\n",
      "\u001B[31m   WARNING: This is a development server. Do not use it in a production deployment.\u001B[0m\n",
      "\u001B[2m   Use a production WSGI server instead.\u001B[0m\n",
      " * Debug mode: on\n"
     ]
    }
   ],
   "source": [
    "DIURNAL = \"Diurnal\"\n",
    "MONTHLY = \"Monthly\"\n",
    "df = pd.read_csv(\"~/Documents/NREL/lakefill_df.csv\")\n",
    "\n",
    "di_df = filter_df_by_time(df, DIURNAL)\n",
    "mn_df = filter_df_by_time(df, MONTHLY)\n",
    "app = dash.Dash()\n",
    "app.layout = html.Div([\n",
    "    dcc.Dropdown(\n",
    "        id='base-graph-dropdown',\n",
    "        options=[\n",
    "            {'label': 'Diurnal', 'value': DIURNAL},\n",
    "            {'label': 'Monthly', 'value': MONTHLY}\n",
    "            # {'label': 'Weekly', 'value': 'wk'}\n",
    "        ],\n",
    "        value=DIURNAL\n",
    "    ),\n",
    "    html.Div(id='base-graph-output-container'),\n",
    "\n",
    "    dcc.Dropdown(\n",
    "        id='bar-x-axis',\n",
    "        options=[\n",
    "            {'label': 'Avg Wind by Hour', 'value': 'aWbH'},\n",
    "            {'label': 'Correlation Matrix', 'value': 'CorMat'},\n",
    "            # {'label': 'Month', 'value': 'Month'}\n",
    "        ],\n",
    "        value=\"aWbH\"\n",
    "    ),\n",
    "    # dcc.Dropdown(\n",
    "    #     id='agg-y-axis',\n",
    "    #     options=[\n",
    "    #         {'label': 'Hour', 'value': 'Hour'},\n",
    "    #         {'label': 'Day', 'value': 'Day'},\n",
    "    #         {'label': 'Month', 'value': 'Month'}\n",
    "    #     ],\n",
    "    #     value=\"Hour\"\n",
    "    # ),\n",
    "    html.Div(id='bar-output-container')\n",
    "])\n",
    "\n",
    "\n",
    "@app.callback(\n",
    "    Output('base-graph-output-container', 'children'),\n",
    "    Input('base-graph-dropdown', 'value')\n",
    ")\n",
    "def update_output(value):\n",
    "    if value == DIURNAL:\n",
    "        df_to_plot = di_df\n",
    "    elif value == MONTHLY:\n",
    "        df_to_plot = mn_df\n",
    "    fig = base_graph(df_to_plot, value)\n",
    "    return dcc.Graph(figure=fig)\n",
    "\n",
    "\n",
    "@app.callback(\n",
    "    Output('bar-output-container', 'children'),\n",
    "    Input('bar-x-axis', 'value'),\n",
    "    Input('base-graph-dropdown', 'value')\n",
    ")\n",
    "def update_secondary(bar_type, temp_input):\n",
    "\n",
    "    if bar_type == \"aWbH\":\n",
    "        # it would be nice to have this change based on the\n",
    "        # dynamic x-range that plotly offers\n",
    "        hist_df = agg_by(df, temporal=temp_input)\n",
    "        t0 = go.Bar(\n",
    "            x=hist_df[\"Hour\"],\n",
    "            y=hist_df[\"wind speed at 100m (m/s)\"],\n",
    "            name=\"wind speed at 100m (m/s)\"\n",
    "        )\n",
    "        traces = [t0]\n",
    "        fig = go.Figure(data=traces)\n",
    "        fig.update_layout(title=f\"Wind Speed Variability X Hour\")\n",
    "\n",
    "    elif bar_type == \"CorMat\":\n",
    "        if temp_input == DIURNAL:\n",
    "            df_to_plot = di_df\n",
    "        elif temp_input == MONTHLY:\n",
    "            df_to_plot = mn_df\n",
    "        else:\n",
    "            exit(f\"ERROR; bar_type not {DIURNAL} nor {MONTHLY}\")\n",
    "\n",
    "        fig = heat_map_corr_mat(df_to_plot)\n",
    "\n",
    "    return dcc.Graph(figure=fig)\n",
    "\n",
    "app.run_server(debug=True, use_reloader=False)"
   ],
   "metadata": {
    "collapsed": false,
    "pycharm": {
     "name": "#%%\n",
     "is_executing": true
    }
   }
  },
  {
   "cell_type": "code",
   "execution_count": 48,
   "outputs": [
    {
     "data": {
      "text/plain": "1.24"
     },
     "execution_count": 48,
     "metadata": {},
     "output_type": "execute_result"
    }
   ],
   "source": [],
   "metadata": {
    "collapsed": false,
    "pycharm": {
     "name": "#%%\n"
    }
   }
  },
  {
   "cell_type": "code",
   "execution_count": null,
   "outputs": [],
   "source": [],
   "metadata": {
    "collapsed": false,
    "pycharm": {
     "name": "#%%\n"
    }
   }
  }
 ],
 "metadata": {
  "kernelspec": {
   "display_name": "NREL",
   "language": "python",
   "name": "nrel"
  },
  "language_info": {
   "codemirror_mode": {
    "name": "ipython",
    "version": 3
   },
   "file_extension": ".py",
   "mimetype": "text/x-python",
   "name": "python",
   "nbconvert_exporter": "python",
   "pygments_lexer": "ipython3",
   "version": "3.8.0"
  }
 },
 "nbformat": 4,
 "nbformat_minor": 5
}